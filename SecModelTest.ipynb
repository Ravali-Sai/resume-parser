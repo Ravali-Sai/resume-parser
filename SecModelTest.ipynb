{
 "cells": [
  {
   "cell_type": "code",
   "execution_count": 5,
   "metadata": {},
   "outputs": [],
   "source": [
    "import spacy\n",
    "from spacy import displacy"
   ]
  },
  {
   "cell_type": "code",
   "execution_count": 6,
   "metadata": {},
   "outputs": [],
   "source": [
    "\n",
    "TEST_DATA=u\"Shaka Khan born in the date of  May,18 Berlin Renovated in May,18 which is sooner than Apr,17 expected Clinet solutions Mar,17 to Aug,18  06/13 – 7/14 Sapient Nitro – New York, NY    Sr. Associate Platform L2  07/13 – 10/14 Sapient Nitro – New Yor\""
   ]
  },
  {
   "cell_type": "code",
   "execution_count": 7,
   "metadata": {},
   "outputs": [],
   "source": [
    "TEST_DATA1=u\"Environment: Saleforce.com platform, Apex, Visual Force (Pages, Component & Controllers) Salesforce.com Data Loader, Workflow & Approvals, Reports, Custom Objects, Custom Tabs, Email Services, Security Controls, SOQL, SOSL, HTML, Java Script, Sandbox, Eclipse IDE Plug-in.  2.\tING Vysya Bank ltd India                                                                                              Aug,15 – Mar,16    Salesforce Admin/Developer    Project Description:  ING Vysya Bank has competed in the banking/financial services, retirement services and insurance markets for over 80 years and serves over two million Indian consumers. The bank markets an entire  range of financial products and services, organized under three strategic lines of business, retail, private and wholesale banking\""
   ]
  },
  {
   "cell_type": "code",
   "execution_count": 26,
   "metadata": {},
   "outputs": [],
   "source": [
    "i1=u\"Work Experience Jan,20 - Actual Confidential 01/10  02/2019 Salesforce Practise Sr. Solution Architect  JAN,18 to FEB,17  chqrter JAN, 18 - Feb, 18.\""
   ]
  },
  {
   "cell_type": "code",
   "execution_count": 27,
   "metadata": {
    "scrolled": true
   },
   "outputs": [
    {
     "name": "stdout",
     "output_type": "stream",
     "text": [
      "Loading Model\n",
      "Model Loading Done\n",
      "Entities [('Jan,20', 'Resdte'), ('Actual', 'Resdte'), ('01/10', 'Resdte'), ('02/2019', 'Resdte'), ('JAN,18', 'Resdte'), ('FEB,17', 'Resdte'), ('JAN, 18', 'Resdte')]\n"
     ]
    }
   ],
   "source": [
    "\n",
    "print(\"Loading Model\")\n",
    "nlp2 = spacy.load(\"Model\")\n",
    "print(\"Model Loading Done\")\n",
    "#for text in TEST_DATA:\n",
    "doc = nlp2(i1)\n",
    "\n",
    "#displacy.serve(doc, style=\"ent\")\n",
    "print(\"Entities\", [(ent.text, ent.label_) for ent in doc.ents  if \"Resdte\" in ent.label_ ])\n",
    "#print(\"Tokens\", [(t.text, t.ent_type_, t.ent_iob) for t in doc ])\n",
    "    "
   ]
  },
  {
   "cell_type": "code",
   "execution_count": 57,
   "metadata": {},
   "outputs": [
    {
     "name": "stdout",
     "output_type": "stream",
     "text": [
      "Tokens [('is', 'Resdte', 3), ('on', 'Resdte', 3), ('May,18', 'Resdte', 3), ('May,18', 'Resdte', 3), ('is', 'Resdte', 3), ('Apr,17', 'Resdte', 3), ('06/13', 'Resdte', 3), ('7/14', 'Resdte', 3)]\n"
     ]
    }
   ],
   "source": [
    "print(\"Tokens\", [(t.text, t.ent_type_, t.ent_iob) for t in doc if \"Resdte\" in t.ent_type_])"
   ]
  },
  {
   "cell_type": "code",
   "execution_count": null,
   "metadata": {},
   "outputs": [],
   "source": []
  },
  {
   "cell_type": "code",
   "execution_count": null,
   "metadata": {},
   "outputs": [],
   "source": []
  },
  {
   "cell_type": "code",
   "execution_count": null,
   "metadata": {},
   "outputs": [],
   "source": []
  },
  {
   "cell_type": "code",
   "execution_count": null,
   "metadata": {},
   "outputs": [],
   "source": []
  },
  {
   "cell_type": "code",
   "execution_count": null,
   "metadata": {},
   "outputs": [],
   "source": []
  },
  {
   "cell_type": "code",
   "execution_count": null,
   "metadata": {},
   "outputs": [],
   "source": []
  },
  {
   "cell_type": "code",
   "execution_count": 84,
   "metadata": {},
   "outputs": [],
   "source": [
    "#!/usr/bin/env python\n",
    "# coding: utf8\n",
    "import pandas as pd\n",
    "import os\n",
    "import string\n",
    "import docx2txt\n",
    "import re\n",
    "import nltk\n",
    "\n",
    "from nltk.corpus import stopwords\n",
    "from nltk.corpus import wordnet\n",
    "from nltk.stem import WordNetLemmatizer\n",
    "\n",
    "#import PyPDF2\n"
   ]
  },
  {
   "cell_type": "code",
   "execution_count": 85,
   "metadata": {},
   "outputs": [],
   "source": [
    "documents_path = 'C:\\\\Users\\\\monishkanna.b\\\\Music\\\\Second\\\\T1\\\\Testing'\n",
    "\n",
    "#'C:\\\\Users\\\\monishkanna.b\\\\Music\\\\Second\\\\T1\\\\Testing'"
   ]
  },
  {
   "cell_type": "code",
   "execution_count": 86,
   "metadata": {},
   "outputs": [],
   "source": [
    "directory = os.path.normpath(documents_path)\n",
    "resume_body=[]"
   ]
  },
  {
   "cell_type": "code",
   "execution_count": 87,
   "metadata": {},
   "outputs": [
    {
     "name": "stdout",
     "output_type": "stream",
     "text": [
      "Loaded\n",
      "Loaded\n"
     ]
    }
   ],
   "source": [
    "for current_dir, sub_dirs_list, files in os.walk(directory):\n",
    "        for file in files:\n",
    "            if file.endswith(\".docx\"):\n",
    "                #file_names.append(file)\n",
    "                file_txt = docx2txt.process(os.path.join(current_dir, file))\n",
    "                resume_body.append(file_txt)\n",
    "                print(\"Loaded\")"
   ]
  },
  {
   "cell_type": "code",
   "execution_count": 80,
   "metadata": {},
   "outputs": [
    {
     "data": {
      "text/plain": [
       "\"Ashley Ushamba\\n\\nOverland Park, KS 66221\\n\\n(305) 810-7981\\n\\nashleyusham@gmail.com\\n\\n\\n\\nProfessional Profile\\n\\n5+ years of implementation and maintenance experience in the IT industry with over 3.5 years of experience in Salesforce.com administration, configuration, and support experience. I am highly flexible and adaptable performer; adept at multi-tasking and thriving in a fast-paced environment while coordinating numerous time-sensitive projects.\\n\\nWork Experience:\\n\\n\\n\\nSalesforce Certified Administrator- Nov, 18\\n\\n\\n\\nFreelance Salesforce Analyst/Administrator\\tJun,16-Present\\n\\nI work with companies to develop a plan to refine processes that will help them fully integrate their business with the Salesforce platform.\\n\\nAdministration work includes helping staff learn how to manage multiple users, setup profiles and roles, customization of objects, fields, record types, page layouts and validations\\n\\nPerforming migration and integration of Company's information to connect AWS and Salesforce enabling enterprises to do more with customer data using Amazon S3,Lambda,Athena and PrivateLink\\n\\nUnderstanding of AWS services including (EC2, ECS, ELB, Cloud formation, ECR,RDS and Redshift) Jenkins, Docker and Terraform\\n\\nBusiness Automation of emails sent and calendar invitations for using Workflow rules and/or Process Builder\\n\\nDevelop, review, and analyze reports and dashboards for accuracy and business needs to make reporting more efficient and easier to manage\\n\\nExperience integrating Salesforce with 3rd party system using web services and AppExchange apps.\\n\\n\\n\\nSprint Corporation\\tOverland Park, KS\\n\\nSalesforce Administrator\\tFeb,13 - Jun,16\\n\\nPerformed daily administration and supported the AWS Cloud and Salesforce platform, including configuring IAM policies, managing multiple user setup, profiles and roles, customization of objects, fields, record types, page layouts and validations\\n\\nUsed Sales Cloud to track leads converted to accounts, contacts, and opportunities for improved visibility and real time analytics\\n\\nDeveloped reports, dashboards, and processes to continuously monitor data quality and integrity and assist users with report design and management\\n\\nParticipated in fully integrating Salesforce CPQ(configure-price quote) which helped the sales team with pricing models have up to date account information\\n\\nBuilt custom apps to automate process including managing wait lists for hot new phones, scheduling corporate briefings or tracking churn data so reps can reach customers defecting or counteract competitive promotions.\\n\\nFamiliarity with , Managed Packages, and integration to other third-party solutions\\n\\nFamiliarity with web/database application development technologies like SQL\\n\\n\\n\\nExperience with the following systems:\\n\\nAnalytics: Power BI, Tableau\\n\\nCRM: Salesforce.com, AWS Cloud Platform Services\\n\\n\\n\\nEducation \\n\\nBachelor in Business Administration: Finance; University of Missouri Kansas City\\n\\nGraduated: May 2013\""
      ]
     },
     "execution_count": 80,
     "metadata": {},
     "output_type": "execute_result"
    }
   ],
   "source": [
    "resume_body[1]"
   ]
  },
  {
   "cell_type": "code",
   "execution_count": 68,
   "metadata": {},
   "outputs": [
    {
     "ename": "TypeError",
     "evalue": "list indices must be integers or slices, not str",
     "output_type": "error",
     "traceback": [
      "\u001b[1;31m---------------------------------------------------------------------------\u001b[0m",
      "\u001b[1;31mTypeError\u001b[0m                                 Traceback (most recent call last)",
      "\u001b[1;32m<ipython-input-68-791b736ae16d>\u001b[0m in \u001b[0;36m<module>\u001b[1;34m\u001b[0m\n\u001b[0;32m      1\u001b[0m \u001b[1;32mfor\u001b[0m \u001b[0mi\u001b[0m \u001b[1;32min\u001b[0m \u001b[0mresume_body\u001b[0m\u001b[1;33m:\u001b[0m\u001b[1;33m\u001b[0m\u001b[1;33m\u001b[0m\u001b[0m\n\u001b[0;32m      2\u001b[0m     \u001b[0ma\u001b[0m\u001b[1;33m=\u001b[0m\u001b[0mi\u001b[0m\u001b[1;33m.\u001b[0m\u001b[0mreplace\u001b[0m\u001b[1;33m(\u001b[0m\u001b[1;34m'\\n'\u001b[0m\u001b[1;33m,\u001b[0m \u001b[1;34m' '\u001b[0m\u001b[1;33m)\u001b[0m\u001b[1;33m\u001b[0m\u001b[1;33m\u001b[0m\u001b[0m\n\u001b[1;32m----> 3\u001b[1;33m     \u001b[0mresume_body\u001b[0m\u001b[1;33m[\u001b[0m\u001b[0mi\u001b[0m\u001b[1;33m]\u001b[0m\u001b[1;33m=\u001b[0m\u001b[0ma\u001b[0m\u001b[1;33m\u001b[0m\u001b[1;33m\u001b[0m\u001b[0m\n\u001b[0m",
      "\u001b[1;31mTypeError\u001b[0m: list indices must be integers or slices, not str"
     ]
    }
   ],
   "source": [
    "for i in resume_body:\n",
    "    a=i.replace('\\n', ' ')\n",
    "    resume_body[i]"
   ]
  },
  {
   "cell_type": "code",
   "execution_count": 88,
   "metadata": {},
   "outputs": [
    {
     "data": {
      "text/plain": [
       "'Ashley Ushamba  Overland Park, KS   3058107981  ashleyusham@gmail.com    Professional Profile  5+ years of implementation and maintenance experience in the software industry with over 3.5 years of experience in Salesforce administration, configuration, and support experience. I am highly flexible and adaptable performer; adept at multi-tasking and thriving in a fast-paced environment while coordinating numerous time-sensitive projects.      Work Experience:    Salesforce Certified Administrator-  Nov, 18    Freelance Salesforce Analyst/Administrator\\tFeb,13 - Jun,16  I work with companies to develop a plan to refine processes that will help them fully integrate their business with the Salesforce platform.  Administration work includes helping staff learn how to manage multiple users, setup profiles and roles, customization of objects, fields, record types, page layouts and validations  Performing migration and integration of Company information to connect AWS and Salesforce enabling enterprises to do more with customer data using Amazon S3, Lambda, Athena and Private Link  Understanding of AWS services including (EC2, ECS, ELB, Cloud formation, ECR,RDS and Redshift) Jenkins, Docker and Terraform  Business Automation of email sent and calendar invitations for using Workflow rules and/or Process Builder  Develop, review, and analyze reports and dashboards for accuracy and business needs to make reporting more efficient and easier to manage  Experience integrating Salesforce with 3rd party system using web services and AppExchange apps.    Sprint Corporation\\tOverland Park, KS  Salesforce Administrator\\tMay,10 - Jan,13  Performed daily administration and supported the AWS Cloud and Salesforce platform, including configuring IAM policies, managing multiple user setup, profiles and roles, customization of objects, fields, record types, page layouts and validations  Used Sales Cloud to track leads converted to accounts, contacts, and opportunities for improved visibility and real time analytics  Developed reports, dashboards, and processes to continuously monitor data quality and integrity and assist users with report design and management  Participated in fully integrating Salesforce CPQ(configure-price quote) which helped the sales team with pricing models have up to date account information  Built custom apps to automate process including managing wait lists for hot new phones, scheduling corporate briefings or tracking churn data so reps can reach customers defecting or counteract competitive promotions.  Familiarity with , Managed Packages, and integration to other third-party solutions  Familiarity with web/database application development technologies like SQL    Experience with the following systems:  Analytics: Power BI, Tableau  CRM: Salesforce.com, AWS Cloud Platform Services    Education   Bachelor in Business Administration: Finance; University of Missouri Kansas City  Graduated: May 2013'"
      ]
     },
     "execution_count": 88,
     "metadata": {},
     "output_type": "execute_result"
    }
   ],
   "source": [
    "resume_body[1].replace('\\n',' ')"
   ]
  },
  {
   "cell_type": "code",
   "execution_count": 94,
   "metadata": {},
   "outputs": [
    {
     "name": "stdout",
     "output_type": "stream",
     "text": [
      "Loading Model\n",
      "Model Loading Done\n"
     ]
    }
   ],
   "source": [
    "print(\"Loading Model\")\n",
    "nlp2 = spacy.load(\"Model\")\n",
    "print(\"Model Loading Done\")\n",
    "#for text in TEST_DATA:\n",
    "doc = nlp2(resume_body[1])\n",
    "\n",
    "#displacy.serve(doc, style=\"ent\")"
   ]
  },
  {
   "cell_type": "code",
   "execution_count": 95,
   "metadata": {
    "scrolled": true
   },
   "outputs": [
    {
     "name": "stdout",
     "output_type": "stream",
     "text": [
      "Entities [('in', 'i2'), ('Salesforce', 'i2'), ('Feb,13', 'Resdte'), ('Jun,16', 'Resdte'), ('AWS', 'Resdte'), ('more', 'i2'), ('S3, Lambda', 'Resdte'), ('Jenkins, Docker', 'Resdte'), ('sent and', 'Resdte'), (',', 'i2'), ('reports', 'i2'), ('for', 'i2'), ('make', 'i2'), ('May,10', 'Resdte'), ('Jan,13', 'Resdte'), ('other', 'Resdte'), ('SQL', 'i2'), ('Salesforce.com, AWS', 'Resdte'), ('Business Administration', 'Resdte'), ('Finance', 'Resdte'), ('University', 'Resdte'), ('Missouri', 'Resdte')]\n"
     ]
    }
   ],
   "source": [
    "print(\"Entities\", [(ent.text, ent.label_) for ent in doc.ents ])"
   ]
  },
  {
   "cell_type": "code",
   "execution_count": 96,
   "metadata": {},
   "outputs": [
    {
     "name": "stderr",
     "output_type": "stream",
     "text": [
      "c:\\users\\monishkanna.b\\appdata\\local\\programs\\python\\python37\\lib\\runpy.py:193: UserWarning: [W011] It looks like you're calling displacy.serve from within a Jupyter notebook or a similar environment. This likely means you're already running a local web server, so there's no need to make displaCy start another one. Instead, you should be able to replace displacy.serve with displacy.render to show the visualization.\n",
      "  \"__main__\", mod_spec)\n"
     ]
    },
    {
     "data": {
      "text/html": [
       "<!DOCTYPE html>\n",
       "<html lang=\"en\">\n",
       "    <head>\n",
       "        <title>displaCy</title>\n",
       "    </head>\n",
       "\n",
       "    <body style=\"font-size: 16px; font-family: -apple-system, BlinkMacSystemFont, 'Segoe UI', Helvetica, Arial, sans-serif, 'Apple Color Emoji', 'Segoe UI Emoji', 'Segoe UI Symbol'; padding: 4rem 2rem; direction: ltr\">\n",
       "<figure style=\"margin-bottom: 6rem\">\n",
       "<div class=\"entities\" style=\"line-height: 2.5; direction: ltr\">Ashley Ushamba</br></br>Overland Park, KS </br></br>3058107981</br></br>ashleyusham@gmail.com</br></br></br></br>Professional Profile</br></br>5+ years of implementation and maintenance experience \n",
       "<mark class=\"entity\" style=\"background: #ddd; padding: 0.45em 0.6em; margin: 0 0.25em; line-height: 1; border-radius: 0.35em; box-decoration-break: clone; -webkit-box-decoration-break: clone\">\n",
       "    in\n",
       "    <span style=\"font-size: 0.8em; font-weight: bold; line-height: 1; border-radius: 0.35em; text-transform: uppercase; vertical-align: middle; margin-left: 0.5rem\">i2</span>\n",
       "</mark>\n",
       " the software industry with over 3.5 years of experience in \n",
       "<mark class=\"entity\" style=\"background: #ddd; padding: 0.45em 0.6em; margin: 0 0.25em; line-height: 1; border-radius: 0.35em; box-decoration-break: clone; -webkit-box-decoration-break: clone\">\n",
       "    Salesforce\n",
       "    <span style=\"font-size: 0.8em; font-weight: bold; line-height: 1; border-radius: 0.35em; text-transform: uppercase; vertical-align: middle; margin-left: 0.5rem\">i2</span>\n",
       "</mark>\n",
       " administration, configuration, and support experience. I am highly flexible and adaptable performer; adept at multi-tasking and thriving in a fast-paced environment while coordinating numerous time-sensitive projects.</br></br></br></br></br></br>Work Experience:</br></br></br></br>Salesforce Certified Administrator-  Nov, 18</br></br></br></br>Freelance Salesforce Analyst/Administrator\t\n",
       "<mark class=\"entity\" style=\"background: #ddd; padding: 0.45em 0.6em; margin: 0 0.25em; line-height: 1; border-radius: 0.35em; box-decoration-break: clone; -webkit-box-decoration-break: clone\">\n",
       "    Feb,13\n",
       "    <span style=\"font-size: 0.8em; font-weight: bold; line-height: 1; border-radius: 0.35em; text-transform: uppercase; vertical-align: middle; margin-left: 0.5rem\">Resdte</span>\n",
       "</mark>\n",
       " - \n",
       "<mark class=\"entity\" style=\"background: #ddd; padding: 0.45em 0.6em; margin: 0 0.25em; line-height: 1; border-radius: 0.35em; box-decoration-break: clone; -webkit-box-decoration-break: clone\">\n",
       "    Jun,16\n",
       "    <span style=\"font-size: 0.8em; font-weight: bold; line-height: 1; border-radius: 0.35em; text-transform: uppercase; vertical-align: middle; margin-left: 0.5rem\">Resdte</span>\n",
       "</mark>\n",
       "</br></br>I work with companies to develop a plan to refine processes that will help them fully integrate their business with the Salesforce platform.</br></br>Administration work includes helping staff learn how to manage multiple users, setup profiles and roles, customization of objects, fields, record types, page layouts and validations</br></br>Performing migration and integration of Company information to connect \n",
       "<mark class=\"entity\" style=\"background: #ddd; padding: 0.45em 0.6em; margin: 0 0.25em; line-height: 1; border-radius: 0.35em; box-decoration-break: clone; -webkit-box-decoration-break: clone\">\n",
       "    AWS\n",
       "    <span style=\"font-size: 0.8em; font-weight: bold; line-height: 1; border-radius: 0.35em; text-transform: uppercase; vertical-align: middle; margin-left: 0.5rem\">Resdte</span>\n",
       "</mark>\n",
       " and Salesforce enabling enterprises to do \n",
       "<mark class=\"entity\" style=\"background: #ddd; padding: 0.45em 0.6em; margin: 0 0.25em; line-height: 1; border-radius: 0.35em; box-decoration-break: clone; -webkit-box-decoration-break: clone\">\n",
       "    more\n",
       "    <span style=\"font-size: 0.8em; font-weight: bold; line-height: 1; border-radius: 0.35em; text-transform: uppercase; vertical-align: middle; margin-left: 0.5rem\">i2</span>\n",
       "</mark>\n",
       " with customer data using Amazon \n",
       "<mark class=\"entity\" style=\"background: #ddd; padding: 0.45em 0.6em; margin: 0 0.25em; line-height: 1; border-radius: 0.35em; box-decoration-break: clone; -webkit-box-decoration-break: clone\">\n",
       "    S3, Lambda\n",
       "    <span style=\"font-size: 0.8em; font-weight: bold; line-height: 1; border-radius: 0.35em; text-transform: uppercase; vertical-align: middle; margin-left: 0.5rem\">Resdte</span>\n",
       "</mark>\n",
       ", Athena and Private Link</br></br>Understanding of AWS services including (EC2, ECS, ELB, Cloud formation, ECR,RDS and Redshift) \n",
       "<mark class=\"entity\" style=\"background: #ddd; padding: 0.45em 0.6em; margin: 0 0.25em; line-height: 1; border-radius: 0.35em; box-decoration-break: clone; -webkit-box-decoration-break: clone\">\n",
       "    Jenkins, Docker\n",
       "    <span style=\"font-size: 0.8em; font-weight: bold; line-height: 1; border-radius: 0.35em; text-transform: uppercase; vertical-align: middle; margin-left: 0.5rem\">Resdte</span>\n",
       "</mark>\n",
       " and Terraform</br></br>Business Automation of email \n",
       "<mark class=\"entity\" style=\"background: #ddd; padding: 0.45em 0.6em; margin: 0 0.25em; line-height: 1; border-radius: 0.35em; box-decoration-break: clone; -webkit-box-decoration-break: clone\">\n",
       "    sent and\n",
       "    <span style=\"font-size: 0.8em; font-weight: bold; line-height: 1; border-radius: 0.35em; text-transform: uppercase; vertical-align: middle; margin-left: 0.5rem\">Resdte</span>\n",
       "</mark>\n",
       " calendar invitations for using Workflow rules and/or Process Builder</br></br>Develop, review\n",
       "<mark class=\"entity\" style=\"background: #ddd; padding: 0.45em 0.6em; margin: 0 0.25em; line-height: 1; border-radius: 0.35em; box-decoration-break: clone; -webkit-box-decoration-break: clone\">\n",
       "    ,\n",
       "    <span style=\"font-size: 0.8em; font-weight: bold; line-height: 1; border-radius: 0.35em; text-transform: uppercase; vertical-align: middle; margin-left: 0.5rem\">i2</span>\n",
       "</mark>\n",
       " and analyze \n",
       "<mark class=\"entity\" style=\"background: #ddd; padding: 0.45em 0.6em; margin: 0 0.25em; line-height: 1; border-radius: 0.35em; box-decoration-break: clone; -webkit-box-decoration-break: clone\">\n",
       "    reports\n",
       "    <span style=\"font-size: 0.8em; font-weight: bold; line-height: 1; border-radius: 0.35em; text-transform: uppercase; vertical-align: middle; margin-left: 0.5rem\">i2</span>\n",
       "</mark>\n",
       " and dashboards \n",
       "<mark class=\"entity\" style=\"background: #ddd; padding: 0.45em 0.6em; margin: 0 0.25em; line-height: 1; border-radius: 0.35em; box-decoration-break: clone; -webkit-box-decoration-break: clone\">\n",
       "    for\n",
       "    <span style=\"font-size: 0.8em; font-weight: bold; line-height: 1; border-radius: 0.35em; text-transform: uppercase; vertical-align: middle; margin-left: 0.5rem\">i2</span>\n",
       "</mark>\n",
       " accuracy and business needs to \n",
       "<mark class=\"entity\" style=\"background: #ddd; padding: 0.45em 0.6em; margin: 0 0.25em; line-height: 1; border-radius: 0.35em; box-decoration-break: clone; -webkit-box-decoration-break: clone\">\n",
       "    make\n",
       "    <span style=\"font-size: 0.8em; font-weight: bold; line-height: 1; border-radius: 0.35em; text-transform: uppercase; vertical-align: middle; margin-left: 0.5rem\">i2</span>\n",
       "</mark>\n",
       " reporting more efficient and easier to manage</br></br>Experience integrating Salesforce with 3rd party system using web services and AppExchange apps.</br></br></br></br>Sprint Corporation\tOverland Park, KS</br></br>Salesforce Administrator\t\n",
       "<mark class=\"entity\" style=\"background: #ddd; padding: 0.45em 0.6em; margin: 0 0.25em; line-height: 1; border-radius: 0.35em; box-decoration-break: clone; -webkit-box-decoration-break: clone\">\n",
       "    May,10\n",
       "    <span style=\"font-size: 0.8em; font-weight: bold; line-height: 1; border-radius: 0.35em; text-transform: uppercase; vertical-align: middle; margin-left: 0.5rem\">Resdte</span>\n",
       "</mark>\n",
       " - \n",
       "<mark class=\"entity\" style=\"background: #ddd; padding: 0.45em 0.6em; margin: 0 0.25em; line-height: 1; border-radius: 0.35em; box-decoration-break: clone; -webkit-box-decoration-break: clone\">\n",
       "    Jan,13\n",
       "    <span style=\"font-size: 0.8em; font-weight: bold; line-height: 1; border-radius: 0.35em; text-transform: uppercase; vertical-align: middle; margin-left: 0.5rem\">Resdte</span>\n",
       "</mark>\n",
       "</br></br>Performed daily administration and supported the AWS Cloud and Salesforce platform, including configuring IAM policies, managing multiple user setup, profiles and roles, customization of objects, fields, record types, page layouts and validations</br></br>Used Sales Cloud to track leads converted to accounts, contacts, and opportunities for improved visibility and real time analytics</br></br>Developed reports, dashboards, and processes to continuously monitor data quality and integrity and assist users with report design and management</br></br>Participated in fully integrating Salesforce CPQ(configure-price quote) which helped the sales team with pricing models have up to date account information</br></br>Built custom apps to automate process including managing wait lists for hot new phones, scheduling corporate briefings or tracking churn data so reps can reach customers defecting or counteract competitive promotions.</br></br>Familiarity with , Managed Packages, and integration to \n",
       "<mark class=\"entity\" style=\"background: #ddd; padding: 0.45em 0.6em; margin: 0 0.25em; line-height: 1; border-radius: 0.35em; box-decoration-break: clone; -webkit-box-decoration-break: clone\">\n",
       "    other\n",
       "    <span style=\"font-size: 0.8em; font-weight: bold; line-height: 1; border-radius: 0.35em; text-transform: uppercase; vertical-align: middle; margin-left: 0.5rem\">Resdte</span>\n",
       "</mark>\n",
       " third-party solutions</br></br>Familiarity with web/database application development technologies like \n",
       "<mark class=\"entity\" style=\"background: #ddd; padding: 0.45em 0.6em; margin: 0 0.25em; line-height: 1; border-radius: 0.35em; box-decoration-break: clone; -webkit-box-decoration-break: clone\">\n",
       "    SQL\n",
       "    <span style=\"font-size: 0.8em; font-weight: bold; line-height: 1; border-radius: 0.35em; text-transform: uppercase; vertical-align: middle; margin-left: 0.5rem\">i2</span>\n",
       "</mark>\n",
       "</br></br></br></br>Experience with the following systems:</br></br>Analytics: Power BI, Tableau</br></br>CRM: \n",
       "<mark class=\"entity\" style=\"background: #ddd; padding: 0.45em 0.6em; margin: 0 0.25em; line-height: 1; border-radius: 0.35em; box-decoration-break: clone; -webkit-box-decoration-break: clone\">\n",
       "    Salesforce.com, AWS\n",
       "    <span style=\"font-size: 0.8em; font-weight: bold; line-height: 1; border-radius: 0.35em; text-transform: uppercase; vertical-align: middle; margin-left: 0.5rem\">Resdte</span>\n",
       "</mark>\n",
       " Cloud Platform Services</br></br></br></br>Education </br></br>Bachelor in \n",
       "<mark class=\"entity\" style=\"background: #ddd; padding: 0.45em 0.6em; margin: 0 0.25em; line-height: 1; border-radius: 0.35em; box-decoration-break: clone; -webkit-box-decoration-break: clone\">\n",
       "    Business Administration\n",
       "    <span style=\"font-size: 0.8em; font-weight: bold; line-height: 1; border-radius: 0.35em; text-transform: uppercase; vertical-align: middle; margin-left: 0.5rem\">Resdte</span>\n",
       "</mark>\n",
       ": \n",
       "<mark class=\"entity\" style=\"background: #ddd; padding: 0.45em 0.6em; margin: 0 0.25em; line-height: 1; border-radius: 0.35em; box-decoration-break: clone; -webkit-box-decoration-break: clone\">\n",
       "    Finance\n",
       "    <span style=\"font-size: 0.8em; font-weight: bold; line-height: 1; border-radius: 0.35em; text-transform: uppercase; vertical-align: middle; margin-left: 0.5rem\">Resdte</span>\n",
       "</mark>\n",
       "; \n",
       "<mark class=\"entity\" style=\"background: #ddd; padding: 0.45em 0.6em; margin: 0 0.25em; line-height: 1; border-radius: 0.35em; box-decoration-break: clone; -webkit-box-decoration-break: clone\">\n",
       "    University\n",
       "    <span style=\"font-size: 0.8em; font-weight: bold; line-height: 1; border-radius: 0.35em; text-transform: uppercase; vertical-align: middle; margin-left: 0.5rem\">Resdte</span>\n",
       "</mark>\n",
       " of \n",
       "<mark class=\"entity\" style=\"background: #ddd; padding: 0.45em 0.6em; margin: 0 0.25em; line-height: 1; border-radius: 0.35em; box-decoration-break: clone; -webkit-box-decoration-break: clone\">\n",
       "    Missouri\n",
       "    <span style=\"font-size: 0.8em; font-weight: bold; line-height: 1; border-radius: 0.35em; text-transform: uppercase; vertical-align: middle; margin-left: 0.5rem\">Resdte</span>\n",
       "</mark>\n",
       " Kansas City\n",
       "\n",
       "Graduated: May 2013</div>\n",
       "</figure>\n",
       "</body>\n",
       "</html>"
      ],
      "text/plain": [
       "<IPython.core.display.HTML object>"
      ]
     },
     "metadata": {},
     "output_type": "display_data"
    },
    {
     "name": "stdout",
     "output_type": "stream",
     "text": [
      "\n",
      "Using the 'ent' visualizer\n",
      "Serving on http://0.0.0.0:5000 ...\n",
      "\n",
      "Shutting down server on port 5000.\n"
     ]
    }
   ],
   "source": [
    "displacy.serve(doc, style=\"ent\")"
   ]
  },
  {
   "cell_type": "code",
   "execution_count": null,
   "metadata": {},
   "outputs": [],
   "source": []
  },
  {
   "cell_type": "code",
   "execution_count": null,
   "metadata": {},
   "outputs": [],
   "source": []
  }
 ],
 "metadata": {
  "kernelspec": {
   "display_name": "Python 3",
   "language": "python",
   "name": "python3"
  },
  "language_info": {
   "codemirror_mode": {
    "name": "ipython",
    "version": 3
   },
   "file_extension": ".py",
   "mimetype": "text/x-python",
   "name": "python",
   "nbconvert_exporter": "python",
   "pygments_lexer": "ipython3",
   "version": "3.7.3"
  }
 },
 "nbformat": 4,
 "nbformat_minor": 2
}
